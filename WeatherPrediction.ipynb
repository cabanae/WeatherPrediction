{
 "cells": [
  {
   "cell_type": "code",
   "execution_count": 22,
   "metadata": {},
   "outputs": [],
   "source": [
    "import numpy as np\n",
    "import matplotlib.pyplot as plt\n",
    "import mltools as ml\n",
    "from logisticClassify2 import *\n",
    "from sklearn import ensemble as sk_ensemble\n",
    "from sklearn import tree\n",
    "from sklearn import svm\n",
    "from sklearn.neighbors import KNeighborsRegressor\n",
    "from sklearn.metrics import roc_auc_score\n",
    "from sklearn.metrics import mean_squared_error\n",
    "np.random.seed(0)\n",
    "\n",
    "# The test data\n",
    "X_test = np.genfromtxt(\"kaggle/X_test.txt\",delimiter=None)\n",
    "# Data Loading\n",
    "X = np.genfromtxt(\"kaggle/X_train.txt\",delimiter=None)\n",
    "Y = np.genfromtxt(\"kaggle/Y_train.txt\",delimiter=None)\n",
    "\n",
    "X,Y = ml.shuffleData(X,Y)\n",
    "X_tr, X_va, Y_tr, Y_va = ml.splitData(X, Y, 0.75)\n",
    "train_shape = X_tr.shape[0]\n",
    "\n",
    "learner_list = []\n",
    "\n",
    "x,y = ml.bootstrapData(X_tr, Y_tr, train_shape)\n",
    "x_val,y_val = ml.bootstrapData(X_va, Y_va, train_shape)"
   ]
  },
  {
   "cell_type": "code",
   "execution_count": 25,
   "metadata": {},
   "outputs": [
    {
     "name": "stdout",
     "output_type": "stream",
     "text": [
      "AUC KNN: 0.7324025298387549\n"
     ]
    }
   ],
   "source": [
    "#Nearest Neighbor\n",
    "knn = KNeighborsRegressor(n_neighbors=8)\n",
    "knn.fit(X_tr, Y_tr)\n",
    "YvaHat = knn.predict(X_va)\n",
    "print(\"AUC KNN: {}\".format(roc_auc_score(Y_va, YvaHat)))\n",
    "YvaHat = knn.predict(X_test)"
   ]
  },
  {
   "cell_type": "code",
   "execution_count": 26,
   "metadata": {},
   "outputs": [
    {
     "name": "stdout",
     "output_type": "stream",
     "text": [
      "AUC Adaboost: 0.6715683335502818\n"
     ]
    }
   ],
   "source": [
    "#Adabooster:\n",
    "from sklearn.ensemble import AdaBoostRegressor\n",
    "ada_clf = AdaBoostRegressor(base_estimator = tree.ExtraTreeClassifier(),n_estimators = 100, learning_rate = 0.5)\n",
    "ada_clf.fit(X_tr, Y_tr)\n",
    "print(\"AUC Adaboost: {}\".format(roc_auc_score(Y_va, ada_clf.predict(X_va))))\n",
    "ada_predictions = ada_clf.predict(X_test)\n",
    "learner_list.append(ada_predictions)"
   ]
  },
  {
   "cell_type": "code",
   "execution_count": 27,
   "metadata": {},
   "outputs": [
    {
     "name": "stdout",
     "output_type": "stream",
     "text": [
      "AUC Forrest: 0.662832095174568\n"
     ]
    }
   ],
   "source": [
    "#Random Forest Classifier:\n",
    "dtree = sk_ensemble.RandomForestClassifier(n_estimators = 50, max_depth = 50, min_samples_leaf = 2**3)\n",
    "dtree.fit(X_tr, Y_tr)\n",
    "# tree_predict = dtree.predict(X_va)\n",
    "print(\"AUC Forrest: {}\".format(roc_auc_score(Y_va, dtree.predict(Xva))))\n",
    "#print(\"AUC Forrest: {}\".format(roc_auc_score(Y_tr, dtree.predict(Xtr))))\n",
    "tree_predict = dtree.predict(X_test)"
   ]
  },
  {
   "cell_type": "code",
   "execution_count": 28,
   "metadata": {},
   "outputs": [
    {
     "name": "stdout",
     "output_type": "stream",
     "text": [
      "200000\n",
      "200000\n",
      "[[ 1.  1.  0. ...,  0.  0.  0.]\n",
      " [ 1.  0.  0. ...,  0.  0.  0.]]\n"
     ]
    }
   ],
   "source": [
    "#Ensemble:\n",
    "Ypred = []\n",
    "review_list = learner_list\n",
    "for each_list in review_list:\n",
    "    print(len(each_list))\n",
    "new_learner_list = np.array(learner_list)\n",
    "print(new_learner_list)\n",
    "for each_item in range(len(new_learner_list[0])):\n",
    "    Ypred.append(int(np.mean(new_learner_list[:, each_item]) > 0.5))\n",
    "\n",
    "#Outputs a row ID and a confidence in class 1:\n",
    "np.savetxt('Yhat_testing.txt', np.vstack( (np.arange(len(Ypred)) , Ypred[:]) ).T, '%d, %.2f',header='ID,Prob1',comments='',delimiter=',');"
   ]
  },
  {
   "cell_type": "code",
   "execution_count": null,
   "metadata": {},
   "outputs": [],
   "source": []
  }
 ],
 "metadata": {
  "kernelspec": {
   "display_name": "Python 3",
   "language": "python",
   "name": "python3"
  },
  "language_info": {
   "codemirror_mode": {
    "name": "ipython",
    "version": 3
   },
   "file_extension": ".py",
   "mimetype": "text/x-python",
   "name": "python",
   "nbconvert_exporter": "python",
   "pygments_lexer": "ipython3",
   "version": "3.6.3"
  }
 },
 "nbformat": 4,
 "nbformat_minor": 2
}
